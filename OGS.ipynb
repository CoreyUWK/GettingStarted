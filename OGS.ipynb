{
 "cells": [
  {
   "cell_type": "code",
   "execution_count": null,
   "metadata": {},
   "outputs": [],
   "source": [
    "%%capture\n",
    "\n",
    "##############################################################################\n",
    "# IGNORE if you are running on a local machine and have all the dependencies #\n",
    "##############################################################################\n",
    "\n",
    "# installing dependencies --- to be able to run on google colab\n",
    "# it would take 2-3 minutes\n",
    "!apt-get install libspatialindex-c4v5;\n",
    "!pip3 install Rtree;\n",
    "!pip3 install osmnx;\n",
    "!pip3 install tqdm;\n",
    "!pip3 install ipyleaflet;\n",
    "\n",
    "# You need to upload Utilities.zip in /content directory which is the default\n",
    "!unzip Utilities.zip"
   ]
  },
  {
   "cell_type": "code",
   "execution_count": 1,
   "metadata": {},
   "outputs": [],
   "source": [
    "import osmnx as ox\n",
    "import networkx as nx"
   ]
  },
  {
   "cell_type": "markdown",
   "metadata": {},
   "source": [
    "## Getting the data"
   ]
  },
  {
   "cell_type": "markdown",
   "metadata": {},
   "source": [
    "`osmnx` goes to OpenStreetMaps API and request the `.osm` file and parse it, but as you remember from our discussion in the README that not all nodes are grouped properly and we end up with multiple connected component in the same area when it should have been complete."
   ]
  },
  {
   "cell_type": "markdown",
   "metadata": {},
   "source": [
    "`osmnx` default behavior is to give you back the biggest component in that area and that is it"
   ]
  }
 ],
 "metadata": {
  "kernelspec": {
   "display_name": "Python 3",
   "language": "python",
   "name": "python3"
  },
  "language_info": {
   "codemirror_mode": {
    "name": "ipython",
    "version": 3
   },
   "file_extension": ".py",
   "mimetype": "text/x-python",
   "name": "python",
   "nbconvert_exporter": "python",
   "pygments_lexer": "ipython3",
   "version": "3.6.9"
  }
 },
 "nbformat": 4,
 "nbformat_minor": 4
}
