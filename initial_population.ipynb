{
 "cells": [
  {
   "cell_type": "code",
   "execution_count": null,
   "metadata": {
    "id": "V7e6UzIXvvKQ"
   },
   "outputs": [],
   "source": [
    "import numpy as np\n",
    "import matplotlib.pyplot as plt"
   ]
  },
  {
   "cell_type": "markdown",
   "metadata": {
    "id": "d6Yb4z7BvvKU"
   },
   "source": [
    "# Initial population - continous problems"
   ]
  },
  {
   "cell_type": "code",
   "execution_count": null,
   "metadata": {
    "id": "OivjX9_nvvKY"
   },
   "outputs": [],
   "source": [
    "# Pseudo-random\n",
    "# generate 200 random numbers\n",
    "np.random.seed(6345245)\n",
    "P_random_pseudo=np.random.rand(200,200)"
   ]
  },
  {
   "cell_type": "code",
   "execution_count": null,
   "metadata": {
    "id": "iq0TYwT1vvKa"
   },
   "outputs": [],
   "source": [
    "# Quasi-random\n",
    "P_random_quasi = np.random.uniform(size=(100*2))"
   ]
  },
  {
   "cell_type": "code",
   "execution_count": null,
   "metadata": {
    "id": "Nre05DiUvvKd"
   },
   "outputs": [],
   "source": [
    "# Sobol low-discrepancy-sequence (LDS)\n",
    "import sobol_seq\n",
    "P_sobel=sobol_seq.i4_sobol_generate(2,200)"
   ]
  },
  {
   "cell_type": "code",
   "execution_count": null,
   "metadata": {},
   "outputs": [],
   "source": [
    "# Latin Hypercube sampling\\\n",
    "import lhsmdu\n",
    "num = 200\n",
    "P_LHS = lhsmdu.sample(2, num)"
   ]
  },
  {
   "cell_type": "code",
   "execution_count": null,
   "metadata": {
    "colab": {
     "base_uri": "https://localhost:8080/",
     "height": 461
    },
    "id": "nBylzhdmvvKi",
    "outputId": "2fefee4d-ada3-464e-82c5-fe3225c320fd"
   },
   "outputs": [],
   "source": [
    "f, (ax1, ax2, ax3,ax4) = plt.subplots(ncols=4, figsize=(18,7))\n",
    "ax1.scatter(P_random_pseudo[:,0], P_random_pseudo[:,1], color=\"gray\")\n",
    "ax2.scatter(P_random_quasi[:100], P_random_quasi[100:], color=\"red\")\n",
    "ax3.scatter(P_sobel[:,0], P_sobel[:,1], color=\"green\")\n",
    "ax4.plot(P_LHS[:, 0], P_LHS[:, 1], \"o\")\n",
    "\n",
    "ax1.set_title(\"Pseudo-random\")\n",
    "ax2.set_title(\"Quasi-random\")\n",
    "ax3.set_title(\"Sobol\")\n",
    "ax4.set_title(\"Latin Hypercube\")"
   ]
  },
  {
   "cell_type": "markdown",
   "metadata": {
    "id": "uX7Kp9JNvvKm"
   },
   "source": [
    "# Initial population - permutations"
   ]
  },
  {
   "cell_type": "code",
   "execution_count": null,
   "metadata": {
    "colab": {
     "base_uri": "https://localhost:8080/",
     "height": 34
    },
    "id": "9KWYPYdDvvKm",
    "outputId": "4ced75af-1d6c-4972-9fc4-5a2ff8be5d8f"
   },
   "outputs": [],
   "source": [
    "# randomly permute a sequence, or return a permuted range.\n",
    "per1=np.random.permutation(10)\n",
    "print(per1)"
   ]
  },
  {
   "cell_type": "code",
   "execution_count": null,
   "metadata": {
    "colab": {
     "base_uri": "https://localhost:8080/",
     "height": 34
    },
    "id": "tYIvNKjuvvKp",
    "outputId": "8fd8b638-dda1-457f-f48f-41568002f74e"
   },
   "outputs": [],
   "source": [
    "# another method\n",
    "per2 = np.array([5, 4, 9, 0, 1, 2, 6, 8, 7, 3])\n",
    "np.random.shuffle(per2)\n",
    "print(per2)"
   ]
  },
  {
   "cell_type": "code",
   "execution_count": null,
   "metadata": {
    "colab": {
     "base_uri": "https://localhost:8080/",
     "height": 187
    },
    "id": "zGBOIUU4vvKr",
    "outputId": "7921f926-87a3-4e55-eea9-98f5765f3580"
   },
   "outputs": [],
   "source": [
    "# population of initial solution as real-value permuations \n",
    "pop_init = np.arange(50).reshape((10,5))\n",
    "np.random.permutation(pop_init)"
   ]
  },
  {
   "cell_type": "code",
   "execution_count": null,
   "metadata": {
    "colab": {
     "base_uri": "https://localhost:8080/",
     "height": 187
    },
    "id": "52JATWfRvvKt",
    "outputId": "8afecdf0-98cc-4ff3-d906-5d810a92e436"
   },
   "outputs": [],
   "source": [
    "# population of initial solution as binary permuations \n",
    "from itertools import combinations\n",
    "size=5 # number of bits in the binary string\n",
    "ones=2 # number of ones in each binary string\n",
    "\n",
    "for pos in map(set, combinations(range(size), ones)):\n",
    "     print([int(i in pos) for i in range(size)], sep='\\n')"
   ]
  },
  {
   "cell_type": "markdown",
   "metadata": {
    "id": "foE6LoWbvvKw"
   },
   "source": [
    "# Initial population - road routes"
   ]
  },
  {
   "cell_type": "code",
   "execution_count": null,
   "metadata": {
    "id": "5yDqt7WdvvKy"
   },
   "outputs": [],
   "source": [
    "import osmnx as ox\n",
    "import random\n",
    "from collections import deque"
   ]
  },
  {
   "cell_type": "code",
   "execution_count": null,
   "metadata": {
    "id": "lkokptypxFi5"
   },
   "outputs": [],
   "source": [
    "G = ox.graph_from_place(\"University of Toronto\")"
   ]
  },
  {
   "cell_type": "code",
   "execution_count": null,
   "metadata": {
    "colab": {
     "base_uri": "https://localhost:8080/",
     "height": 466
    },
    "id": "5RYLM1xOxrn5",
    "outputId": "a4f3c9ad-ff49-4a20-a101-659983341f05"
   },
   "outputs": [],
   "source": [
    "fig, ax = ox.plot_graph(G)"
   ]
  },
  {
   "cell_type": "code",
   "execution_count": null,
   "metadata": {
    "id": "YXpmUmzBzquK"
   },
   "outputs": [],
   "source": [
    "#\n",
    "# This class is just a wrapper around networkx graph nodes to ease its usage\n",
    "# \n",
    "\n",
    "class Node:\n",
    "    # using __slots__ for optimization\n",
    "    __slots__ = ['node', 'distance', 'parent', 'osmid', 'G']\n",
    "    # constructor for each node\n",
    "    def __init__(self ,graph , osmid, distance = 0, parent = None):\n",
    "        # the dictionary of each node as in networkx graph --- still needed for internal usage\n",
    "        self.node = graph[osmid]\n",
    "        \n",
    "        # the distance from the parent node --- edge length\n",
    "        self.distance = distance\n",
    "        \n",
    "        # the parent node\n",
    "        self.parent = parent\n",
    "        \n",
    "        # unique identifier for each node so we don't use the dictionary returned from osmnx\n",
    "        self.osmid = osmid\n",
    "        \n",
    "        # the graph\n",
    "        self.G = graph\n",
    "    \n",
    "    # returning all the nodes adjacent to the node\n",
    "    def expand(self):\n",
    "        children = [Node(graph = self.G, osmid = child, distance = self.node[child][0]['length'], parent = self) \\\n",
    "                        for child in self.node]\n",
    "        return children\n",
    "    \n",
    "    # returns the path from that node to the origin as a list and the length of that path\n",
    "    def path(self):\n",
    "        node = self\n",
    "        path = []\n",
    "        while node:\n",
    "            path.append(node.osmid)\n",
    "            node = node.parent\n",
    "        return path[::-1]\n",
    "    \n",
    "    # the following two methods are for dictating how comparison works\n",
    "\n",
    "    def __eq__(self, other):\n",
    "        try:\n",
    "            return self.osmid == other.osmid\n",
    "        except:\n",
    "            return self.osmid == other\n",
    "            \n",
    "    \n",
    "    def __hash__(self):\n",
    "        return hash(self.osmid)\n"
   ]
  },
  {
   "cell_type": "code",
   "execution_count": null,
   "metadata": {
    "id": "wxGbLduY-Dve"
   },
   "outputs": [],
   "source": [
    "# this is just a typical graph search with suffled frontier\n",
    "def randomized_search(G, source, destination):\n",
    "    origin = Node(graph = G, osmid = source)\n",
    "    destination = Node(graph = G, osmid = destination)\n",
    "    \n",
    "    route = [] \n",
    "    frontier = deque([origin])\n",
    "    explored = set()\n",
    "    while frontier:\n",
    "        node = random.choice(frontier)   # here is the randomization part\n",
    "        frontier.remove(node)\n",
    "        explored.add(node.osmid)\n",
    "\n",
    "        for child in node.expand():\n",
    "            if child not in explored and child not in frontier:\n",
    "                if child == destination:\n",
    "                    route = child.path()\n",
    "                    return route\n",
    "                frontier.append(child)\n",
    "\n",
    "    raise Exception(\"destination and source are not on same component\")"
   ]
  },
  {
   "cell_type": "code",
   "execution_count": null,
   "metadata": {
    "id": "z2JVDHkV-GwP"
   },
   "outputs": [],
   "source": [
    "# generate random route between 2 nodes \n",
    "random_route = randomized_search(G, 24959528, 1480794706)"
   ]
  },
  {
   "cell_type": "code",
   "execution_count": null,
   "metadata": {
    "colab": {
     "base_uri": "https://localhost:8080/",
     "height": 466
    },
    "id": "19rDf6A3FolW",
    "outputId": "db1c9995-1977-4818-db80-5d891850e713"
   },
   "outputs": [],
   "source": [
    "fig, ax = ox.plot_graph_route(G, random_route)"
   ]
  },
  {
   "cell_type": "code",
   "execution_count": null,
   "metadata": {
    "id": "P_G6KVHhGW0U"
   },
   "outputs": [],
   "source": [
    "random_hexa = lambda: random.randint(0,255) # generate random hexadecimal color"
   ]
  },
  {
   "cell_type": "code",
   "execution_count": null,
   "metadata": {
    "colab": {
     "base_uri": "https://localhost:8080/",
     "height": 466
    },
    "id": "ZiMsW-biGE7o",
    "outputId": "7fb60e75-1250-4422-909b-902e2e6d7da6"
   },
   "outputs": [],
   "source": [
    "# generate 5 random routes with 5 different colors -- overlapping routes cancel each other color's\n",
    "routes = [randomized_search(G, 24959528, 1480794706) for _ in range(5)]\n",
    "rc = ['#%02X%02X%02X' % (random_hexa(),random_hexa(),random_hexa()) for _ in range(5)]\n",
    "fig, ax = ox.plot_graph_routes(G, routes, route_colors=rc, route_linewidth=6, node_size=0)"
   ]
  }
 ],
 "metadata": {
  "@webio": {
   "lastCommId": null,
   "lastKernelId": null
  },
  "colab": {
   "collapsed_sections": [],
   "name": "initial_population.ipynb",
   "provenance": []
  },
  "kernelspec": {
   "display_name": "Python 3",
   "language": "python",
   "name": "python3"
  },
  "language_info": {
   "codemirror_mode": {
    "name": "ipython",
    "version": 3
   },
   "file_extension": ".py",
   "mimetype": "text/x-python",
   "name": "python",
   "nbconvert_exporter": "python",
   "pygments_lexer": "ipython3",
   "version": "3.8.5"
  }
 },
 "nbformat": 4,
 "nbformat_minor": 1
}
