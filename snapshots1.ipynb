{
 "cells": [
  {
   "cell_type": "code",
   "execution_count": null,
   "metadata": {},
   "outputs": [],
   "source": [
    "import osmnx as ox\n",
    "from ipyleaflet import *\n",
    "import networkx as nx\n",
    "import plotly.graph_objects as obj\n",
    "import numpy as np"
   ]
  },
  {
   "cell_type": "markdown",
   "metadata": {},
   "source": [
    "##  creating graph using OSMnx"
   ]
  },
  {
   "cell_type": "code",
   "execution_count": null,
   "metadata": {},
   "outputs": [],
   "source": [
    "G = ox.graph_from_place('university of toronto')\n",
    "fig, ax = ox.plot_graph(G)"
   ]
  },
  {
   "cell_type": "code",
   "execution_count": null,
   "metadata": {},
   "outputs": [],
   "source": [
    "# converting a graph to node and/or edge GeoDataFrames.\n",
    "nodes, edges = ox.graph_to_gdfs(G)"
   ]
  },
  {
   "cell_type": "code",
   "execution_count": null,
   "metadata": {},
   "outputs": [],
   "source": [
    "# rendering graph nodes\n",
    "nodes"
   ]
  },
  {
   "cell_type": "code",
   "execution_count": null,
   "metadata": {},
   "outputs": [],
   "source": [
    "# rendering graph edges\n",
    "edges"
   ]
  },
  {
   "cell_type": "code",
   "execution_count": null,
   "metadata": {},
   "outputs": [],
   "source": [
    "# rendering the 2nd node \n",
    "list(G.nodes(data=True))[1]"
   ]
  },
  {
   "cell_type": "code",
   "execution_count": null,
   "metadata": {},
   "outputs": [],
   "source": [
    "# rendering the 1std edge\n",
    "list(G.edges(data=True))[1]"
   ]
  },
  {
   "cell_type": "code",
   "execution_count": null,
   "metadata": {},
   "outputs": [],
   "source": [
    "# Converting node and edge GeoDataFrames to a MultiDiGraph.\n",
    "G2=ox.graph_from_gdfs(nodes, edges)\n",
    "ig2, ax2 = ox.plot_graph(G2)"
   ]
  },
  {
   "cell_type": "code",
   "execution_count": null,
   "metadata": {},
   "outputs": [],
   "source": [
    "# graph stats\n",
    "ox.basic_stats(G)"
   ]
  },
  {
   "cell_type": "markdown",
   "metadata": {},
   "source": [
    "## plotting the map usinng folium and save the graph as html file"
   ]
  },
  {
   "cell_type": "code",
   "execution_count": null,
   "metadata": {
    "scrolled": true
   },
   "outputs": [],
   "source": [
    "ox.plot_graph_folium(G)"
   ]
  },
  {
   "cell_type": "markdown",
   "metadata": {},
   "source": [
    "## plotting map using ipyleaflet"
   ]
  },
  {
   "cell_type": "code",
   "execution_count": null,
   "metadata": {},
   "outputs": [],
   "source": [
    "center=(43.662643, -79.395689) # UofT main building\n",
    "source_point = (43.664527, -79.392442)  # King Edward VII Equestrian Statue\n",
    "destination_point = (43.659659, -79.397669) # Bahen Centre for Information Technology at UofT\n",
    "\n",
    "m = Map(center=center, zoom=15)\n",
    "\n",
    "marker = Marker(location=center, draggable=False)\n",
    "\n",
    "# King Edward VII Equestrian Statue\n",
    "marker1 = Marker(name='marker1', location=source_point)\n",
    "\n",
    "# Bahen Centre for Information Technology\n",
    "marker2 = Marker(name='marker2', location=destination_point)\n",
    "m.add_layer(marker1)\n",
    "m.add_layer(marker2)\n",
    "\n",
    "control = LayersControl(position='topright')\n",
    "m.add_control(control)\n",
    "m.add_layer(marker);\n",
    "m"
   ]
  },
  {
   "cell_type": "code",
   "execution_count": null,
   "metadata": {},
   "outputs": [],
   "source": [
    "# getting the nearest nodes to the locations \n",
    "source_node = ox.get_nearest_node(G, source_point) \n",
    "destination_node = ox.get_nearest_node(G, destination_point)\n",
    "# Render the closest node id to origin and destination points \n",
    "source_node, destination_node"
   ]
  },
  {
   "cell_type": "markdown",
   "metadata": {},
   "source": [
    "## working with networkx"
   ]
  },
  {
   "cell_type": "code",
   "execution_count": null,
   "metadata": {},
   "outputs": [],
   "source": [
    "# finding the shortest path usuing dijkstra algorithm\n",
    "route = nx.shortest_path(G, source_node, destination_node, weight = 'length') "
   ]
  },
  {
   "cell_type": "code",
   "execution_count": null,
   "metadata": {},
   "outputs": [],
   "source": [
    "# getting latitude and longitude of the nodes in the shortest path\n",
    "longitude = [] \n",
    "latitude = []  \n",
    "for i in route:\n",
    "     point = G.nodes[i]\n",
    "     longitude.append(point['x'])\n",
    "     latitude.append(point['y'])"
   ]
  },
  {
   "cell_type": "markdown",
   "metadata": {},
   "source": [
    "## plotting the shortest route usning plotly"
   ]
  },
  {
   "cell_type": "code",
   "execution_count": null,
   "metadata": {},
   "outputs": [],
   "source": [
    "fig = obj.Figure(obj.Scattermapbox(name = \"Path\", mode = \"lines\", lat = latitude, lon = longitude, marker = {'size': 10}, line = dict(width = 4.5, color = 'blue')))\n",
    "\n",
    "# source node\n",
    "fig.add_trace(obj.Scattermapbox(name = \"Source\", mode = \"markers\", lat = [source_point[0]], lon = [source_point[1]], \n",
    "                                marker = {'size': 12, 'color':\"red\"}))\n",
    "     \n",
    "# destination node\n",
    "fig.add_trace(obj.Scattermapbox(name = \"Destination\", mode = \"markers\", lat = [destination_point[0]], lon = [destination_point[1]], \n",
    "                                marker = {'size': 12, 'color':'green'}))\n",
    "    \n",
    "# center for plots\n",
    "lat_center = np.mean(latitude)\n",
    "long_center = np.mean(longitude)\n",
    "\n",
    "# defining plot layout\n",
    "fig.update_layout(mapbox_style=\"stamen-terrain\")\n",
    "fig.update_layout(margin={\"r\":0,\"t\":0,\"l\":0,\"b\":0}, mapbox = {'center': {'lat': lat_center, 'lon': long_center}, 'zoom': 13})\n",
    "fig.show()"
   ]
  },
  {
   "cell_type": "markdown",
   "metadata": {},
   "source": [
    "## finding point of interest (POI) using overpass-api"
   ]
  },
  {
   "cell_type": "code",
   "execution_count": null,
   "metadata": {},
   "outputs": [],
   "source": [
    "import requests\n",
    "import json\n",
    "\n",
    "overpass_url = \"http://overpass-api.de/api/interpreter\"\n",
    "overpass_query = \"\"\"\n",
    "[out:json];\n",
    "(node[\"amenity\"=\"restaurant\"](around:1000,43.66, -79.39);\n",
    " way[\"amenity\"=\"restaurant\"](around:1000,43.66, -79.39);\n",
    " rel[\"amenity\"=\"restaurant\"](around:1000,43.66, -79.39);\n",
    "\n",
    ");\n",
    "out center;\n",
    "\"\"\"\n",
    "response = requests.get(overpass_url, params={'data': overpass_query})\n",
    "restaurant = response.json()"
   ]
  },
  {
   "cell_type": "code",
   "execution_count": null,
   "metadata": {},
   "outputs": [],
   "source": [
    "len(restaurant['elements'])"
   ]
  },
  {
   "cell_type": "code",
   "execution_count": null,
   "metadata": {},
   "outputs": [],
   "source": [
    "# Extract the lon, lat and name of each restaurant:\n",
    "lons = []\n",
    "lats = []\n",
    "text = []\n",
    "for elem in restaurant['elements']:\n",
    "    if elem['type'] == 'node':\n",
    "        lons.append(elem['lon'])\n",
    "        lats.append(elem['lat'])\n",
    "        \n",
    "    elif 'center' in elem:\n",
    "        lons.append(elem['center']['lon'])\n",
    "        lats.append(elem['center']['lat'])  \n",
    "    else: pass\n",
    "    if 'name'  not in elem['tags']:\n",
    "        text.append('Noname')\n",
    "    else:\n",
    "        text.append(elem['tags']['name'])"
   ]
  },
  {
   "cell_type": "code",
   "execution_count": null,
   "metadata": {},
   "outputs": [],
   "source": [
    "restaurants = dict(type='scattermapbox',\n",
    "                   lat=lats, \n",
    "                   lon=lons,\n",
    "                   mode='markers',\n",
    "                   text=text,\n",
    "                   marker=dict(size=8, color='blue'),\n",
    "                   hoverinfo='text',    \n",
    "                   showlegend=False)"
   ]
  },
  {
   "cell_type": "code",
   "execution_count": null,
   "metadata": {},
   "outputs": [],
   "source": [
    "# plotting restaurants' location around University of Toronto\n",
    "fig = obj.Figure(obj.Scattermapbox(restaurants))\n",
    "\n",
    "# defining plot layout\n",
    "fig.update_layout(mapbox_style=\"stamen-terrain\")\n",
    "fig.update_layout(margin={\"r\":0,\"t\":0,\"l\":0,\"b\":0}, mapbox = {'center': {'lat': lat_center, 'lon': long_center}, 'zoom': 13})\n",
    "fig.show()"
   ]
  }
 ],
 "metadata": {
  "@webio": {
   "lastCommId": null,
   "lastKernelId": null
  },
  "kernelspec": {
   "display_name": "Python 3",
   "language": "python",
   "name": "python3"
  },
  "language_info": {
   "codemirror_mode": {
    "name": "ipython",
    "version": 3
   },
   "file_extension": ".py",
   "mimetype": "text/x-python",
   "name": "python",
   "nbconvert_exporter": "python",
   "pygments_lexer": "ipython3",
   "version": "3.6.9"
  }
 },
 "nbformat": 4,
 "nbformat_minor": 4
}
